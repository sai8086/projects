{
  "nbformat": 4,
  "nbformat_minor": 0,
  "metadata": {
    "colab": {
      "name": "Top50acc.ipynb",
      "provenance": [],
      "collapsed_sections": [],
      "authorship_tag": "ABX9TyMs/O3HIhc2YdrhplsrOSUW",
      "include_colab_link": true
    },
    "kernelspec": {
      "name": "python3",
      "display_name": "Python 3"
    },
    "language_info": {
      "name": "python"
    }
  },
  "cells": [
    {
      "cell_type": "markdown",
      "metadata": {
        "id": "view-in-github",
        "colab_type": "text"
      },
      "source": [
        "<a href=\"https://colab.research.google.com/github/sai8086/projects/blob/master/Top50acc.ipynb\" target=\"_parent\"><img src=\"https://colab.research.google.com/assets/colab-badge.svg\" alt=\"Open In Colab\"/></a>"
      ]
    },
    {
      "cell_type": "code",
      "metadata": {
        "id": "SQpg_q8di7Ko"
      },
      "source": [
        "import pandas as pd\n",
        "from google.colab import files\n",
        "uploded = files.upload()\n",
        "#df = pd.read_excel('')"
      ],
      "execution_count": null,
      "outputs": []
    },
    {
      "cell_type": "code",
      "metadata": {
        "id": "0k1uhU8Ekizz"
      },
      "source": [
        "df=pd.read_excel(uploded['MostSubscribers.xlsx'])"
      ],
      "execution_count": 191,
      "outputs": []
    },
    {
      "cell_type": "code",
      "metadata": {
        "id": "3P3vlQx6k_wo"
      },
      "source": [
        "df.columns"
      ],
      "execution_count": null,
      "outputs": []
    },
    {
      "cell_type": "code",
      "metadata": {
        "id": "ZPQ1WmHHltWk"
      },
      "source": [
        "import matplotlib.pyplot as plt\n",
        "plt.scatter(df['Category'],df['Subscribers(millions)'])\n",
        "#plt.scatter(df['Language'],df['Subscribers(millions)'])\n",
        "#plt.scatter(df['Country'],df['Subscribers(millions)'])\n"
      ],
      "execution_count": null,
      "outputs": []
    },
    {
      "cell_type": "code",
      "metadata": {
        "id": "AeZ2g7ovm1VZ"
      },
      "source": [
        "df.groupby(['Country','Category','Language'])['Subscribers(millions)'].sum().head(30)\n"
      ],
      "execution_count": null,
      "outputs": []
    },
    {
      "cell_type": "code",
      "metadata": {
        "id": "30oWBq7BoKu3"
      },
      "source": [
        "df.groupby(['Country','Category'])['Subscribers(millions)'].sum().sort_values(ascending=False)\n",
        "#df.groupby('Language')['Subscribers(millions)'].sum()"
      ],
      "execution_count": null,
      "outputs": []
    },
    {
      "cell_type": "code",
      "metadata": {
        "id": "fEnzQb1-ryrY"
      },
      "source": [
        "from sklearn.feature_extraction.text import TfidfVectorizer\n",
        "tf = TfidfVectorizer(analyzer='word',stop_words='english',ngram_range=(1,2))\n",
        "\n",
        "t_matrix=tf.fit_transform(df['Category'])\n",
        "t_channel=tf1.fit_transform(df['Channel'])\n",
        "#t_newmatrix=tf.get_feature_names()\n",
        "t_new=t_matrix.toarray()\n",
        "len(t_new[0])\n",
        "t_new"
      ],
      "execution_count": null,
      "outputs": []
    },
    {
      "cell_type": "code",
      "metadata": {
        "id": "sieFwzqJywDz"
      },
      "source": [
        "df['Category'].unique()"
      ],
      "execution_count": null,
      "outputs": []
    },
    {
      "cell_type": "code",
      "metadata": {
        "id": "cHcARKeT0M3j"
      },
      "source": [
        "df['Category'].replace('How-to','howto',inplace=True)"
      ],
      "execution_count": 197,
      "outputs": []
    },
    {
      "cell_type": "code",
      "metadata": {
        "colab": {
          "base_uri": "https://localhost:8080/"
        },
        "id": "MUYVw4CP5FWd",
        "outputId": "f0e0d881-1231-4609-bb63-0e1b4f53dc14"
      },
      "source": [
        "from sklearn.metrics.pairwise import linear_kernel\n",
        "cosine_sim=linear_kernel(t_matrix,t_matrix)\n",
        "channel=df['Channel']\n",
        "indices = pd.Series(df.index,index=df['Channel'])\n",
        "def show(genre):\n",
        "  idx=indices[genre]\n",
        "  sim_cosine=list(enumerate(cosine_sim[idx]))\n",
        "  sim_score= sorted(sim_cosine ,key= lambda x:x[1],reverse = True)\n",
        "  sim_score = sim_score[:10]\n",
        "  for i in sim_score:\n",
        "    print(channel[i[0]].capitalize())\n",
        "text='pewdi'\n",
        "text=text.lower()\n",
        "try:\n",
        "  show(text)\n",
        "except:\n",
        "  print('Are u trying')\n",
        "  l=[]\n",
        "  b=text\n",
        "  from difflib import SequenceMatcher\n",
        "  def sim(a,b):\n",
        "    t=(a,SequenceMatcher(None, a, b).ratio())\n",
        "    l.append(t)\n",
        "  for i in channel:\n",
        "    sim(i,b)\n",
        "  k= sorted(l,key=lambda x:x[1] , reverse=True)\n",
        "  k=k[:5]\n",
        "  for i in k:\n",
        "    print(i[0].capitalize())\n"
      ],
      "execution_count": 269,
      "outputs": [
        {
          "output_type": "stream",
          "name": "stdout",
          "text": [
            "Are u trying\n",
            "Pewdiepie\n",
            "Set india\n",
            "T-series\n",
            "Blackpink\n",
            "Ed sheeran\n"
          ]
        }
      ]
    },
    {
      "cell_type": "code",
      "metadata": {
        "id": "Rd2nH2loJTa4"
      },
      "source": [
        ""
      ],
      "execution_count": null,
      "outputs": []
    }
  ]
}